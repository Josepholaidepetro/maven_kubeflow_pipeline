{
 "cells": [
  {
   "cell_type": "code",
   "execution_count": 1,
   "metadata": {},
   "outputs": [
    {
     "name": "stdout",
     "output_type": "stream",
     "text": [
      "\u001b[33m  WARNING: The scripts pip, pip3 and pip3.6 are installed in '/home/jovyan/.local/bin' which is not on PATH.\n",
      "  Consider adding this directory to PATH or, if you prefer to suppress this warning, use --no-warn-script-location.\u001b[0m\n",
      "\u001b[33mWARNING: You are using pip version 19.3.1; however, version 21.1.1 is available.\n",
      "You should consider upgrading via the 'pip install --upgrade pip' command.\u001b[0m\n"
     ]
    }
   ],
   "source": [
    "#installing pip\n",
    "!python -m pip install --user --upgrade pip --quiet"
   ]
  },
  {
   "cell_type": "code",
   "execution_count": 2,
   "metadata": {},
   "outputs": [
    {
     "name": "stdout",
     "output_type": "stream",
     "text": [
      "WARNING: pip is being invoked by an old script wrapper. This will fail in a future version of pip.\n",
      "Please see https://github.com/pypa/pip/issues/5599 for advice on fixing the underlying issue.\n",
      "To avoid this problem you can invoke Python with '-m pip' instead of running pip directly.\n",
      "\u001b[33m  WARNING: The script tabulate is installed in '/home/jovyan/.local/bin' which is not on PATH.\n",
      "  Consider adding this directory to PATH or, if you prefer to suppress this warning, use --no-warn-script-location.\u001b[0m\n",
      "\u001b[33m  WARNING: The script strip-hints is installed in '/home/jovyan/.local/bin' which is not on PATH.\n",
      "  Consider adding this directory to PATH or, if you prefer to suppress this warning, use --no-warn-script-location.\u001b[0m\n",
      "\u001b[33m  WARNING: The scripts dsl-compile, dsl-compile-v2 and kfp are installed in '/home/jovyan/.local/bin' which is not on PATH.\n",
      "  Consider adding this directory to PATH or, if you prefer to suppress this warning, use --no-warn-script-location.\u001b[0m\n"
     ]
    }
   ],
   "source": [
    "#installing kfp\n",
    "!pip install kfp --upgrade --user --quiet"
   ]
  },
  {
   "cell_type": "code",
   "execution_count": 1,
   "metadata": {},
   "outputs": [
    {
     "name": "stdout",
     "output_type": "stream",
     "text": [
      "/home/jovyan/maven_breast_cancer\n"
     ]
    }
   ],
   "source": [
    "%%bash\n",
    "pwd"
   ]
  },
  {
   "cell_type": "code",
   "execution_count": 2,
   "metadata": {},
   "outputs": [],
   "source": [
    "%%bash\n",
    "mkdir download_data\n",
    "mkdir logistic_regression"
   ]
  },
  {
   "cell_type": "code",
   "execution_count": 18,
   "metadata": {},
   "outputs": [],
   "source": [
    "download_data_file = \"./download_data/download_data.py\"\n",
    "docker_data_file = \"./download_data/Dockerfile\"\n",
    "yaml_data_file = \"./download_data/download_data.yaml\""
   ]
  },
  {
   "cell_type": "code",
   "execution_count": 19,
   "metadata": {},
   "outputs": [
    {
     "name": "stdout",
     "output_type": "stream",
     "text": [
      "Overwriting ./download_data/download_data.py\n"
     ]
    }
   ],
   "source": [
    "%%writefile $download_data_file\n",
    "import json\n",
    "\n",
    "import argparse\n",
    "from pathlib import Path\n",
    "\n",
    "from sklearn.datasets import load_breast_cancer\n",
    "from sklearn.model_selection import train_test_split\n",
    "\n",
    "def download_data(args):\n",
    "\n",
    "    # Gets and split dataset\n",
    "    x, y = load_breast_cancer(return_X_y=True)\n",
    "    x_train, x_test, y_train, y_test = train_test_split(x, y, test_size=0.2)\n",
    "\n",
    "    # Creates `data` structure to save and \n",
    "    # share train and test datasets.\n",
    "    data = {'x_train' : x_train.tolist(),\n",
    "            'y_train' : y_train.tolist(),\n",
    "            'x_test' : x_test.tolist(),\n",
    "            'y_test' : y_test.tolist()}\n",
    "\n",
    "    # Creates a json object based on `data`\n",
    "    data_json = json.dumps(data)\n",
    "\n",
    "    # Saves the json object into a file\n",
    "    with open(args.data, 'w') as out_file:\n",
    "        json.dump(data_json, out_file)\n",
    "\n",
    "if __name__ == '__main__':\n",
    "    \n",
    "    # This component does not receive any input\n",
    "    # it only outpus one artifact which is `data`.\n",
    "    parser = argparse.ArgumentParser()\n",
    "    parser.add_argument('--data', type=str)\n",
    "    \n",
    "    args = parser.parse_args()\n",
    "    \n",
    "    # Creating the directory where the output file will be created \n",
    "    # (the directory may or may not exist).\n",
    "    Path(args.data).parent.mkdir(parents=True, exist_ok=True)\n",
    "\n",
    "    download_data(args)\n",
    "    "
   ]
  },
  {
   "cell_type": "code",
   "execution_count": 20,
   "metadata": {},
   "outputs": [
    {
     "name": "stdout",
     "output_type": "stream",
     "text": [
      "Writing ./download_data/Dockerfile\n"
     ]
    }
   ],
   "source": [
    "%%writefile $docker_data_file\n",
    "\n",
    "FROM python:3.9-slim-buster\n",
    "WORKDIR /maven\n",
    "RUN pip install sklearn\n",
    "COPY download_data.py /maven"
   ]
  },
  {
   "cell_type": "code",
   "execution_count": 21,
   "metadata": {},
   "outputs": [
    {
     "name": "stdout",
     "output_type": "stream",
     "text": [
      "Writing ./download_data/download_data.yaml\n"
     ]
    }
   ],
   "source": [
    "%%writefile $yaml_data_file\n",
    "name: Download Data Function\n",
    "description: Download toy data from sklearn datasets\n",
    "\n",
    "outputs:\n",
    "- {name: Data, type: LocalPath, description: 'Path where data will be stored.'}\n",
    "\n",
    "implementation:\n",
    "  container:\n",
    "    image: mavencodev/breast_cancer_download_data:1.0\n",
    "    command: [\n",
    "      python, download_data.py,\n",
    "\n",
    "      --data,\n",
    "      {outputPath: Data},\n",
    "    ]"
   ]
  },
  {
   "cell_type": "code",
   "execution_count": 22,
   "metadata": {},
   "outputs": [],
   "source": [
    "logistic_regression_file = \"./logistic_regression/logistic_regression.py\"\n",
    "docker_log_file = \"./logistic_regression/Dockerfile\"\n",
    "yaml_log_file = \"./logistic_regression/logistic_regression.yaml\""
   ]
  },
  {
   "cell_type": "code",
   "execution_count": 23,
   "metadata": {},
   "outputs": [
    {
     "name": "stdout",
     "output_type": "stream",
     "text": [
      "Writing ./logistic_regression/logistic_regression.py\n"
     ]
    }
   ],
   "source": [
    "%%writefile $logistic_regression_file\n",
    "import json\n",
    "\n",
    "import argparse\n",
    "from pathlib import Path\n",
    "\n",
    "from sklearn.metrics import accuracy_score\n",
    "from sklearn.linear_model import LogisticRegression\n",
    "\n",
    "def logistic_regression(args):\n",
    "\n",
    "    # Open and reads file \"data\"\n",
    "    with open(args.data) as data_file:\n",
    "        data = json.load(data_file)\n",
    "    \n",
    "    # The excted data type is 'dict', however since the file\n",
    "    # was loaded as a json object, it is first loaded as a string\n",
    "    # thus we need to load again from such string in order to get \n",
    "    # the dict-type object.\n",
    "    data = json.loads(data)\n",
    "\n",
    "    x_train = data['x_train']\n",
    "    y_train = data['y_train']\n",
    "    x_test = data['x_test']\n",
    "    y_test = data['y_test']\n",
    "    \n",
    "    # Initialize and train the model\n",
    "    model = LogisticRegression()\n",
    "    model.fit(x_train, y_train)\n",
    "\n",
    "    # Get predictions\n",
    "    y_pred = model.predict(x_test)\n",
    "    \n",
    "    # Get accuracy\n",
    "    accuracy = accuracy_score(y_test, y_pred)\n",
    "\n",
    "    # Save output into file\n",
    "    with open(args.accuracy, 'w') as accuracy_file:\n",
    "        accuracy_file.write(str(accuracy))\n",
    "\n",
    "\n",
    "\n",
    "if __name__ == '__main__':\n",
    "\n",
    "    # Defining and parsing the command-line arguments\n",
    "    parser = argparse.ArgumentParser(description='My program description')\n",
    "    parser.add_argument('--data', type=str)\n",
    "    parser.add_argument('--accuracy', type=str)\n",
    "\n",
    "    args = parser.parse_args()\n",
    "\n",
    "    # Creating the directory where the output file will be created (the directory may or may not exist).\n",
    "    Path(args.accuracy).parent.mkdir(parents=True, exist_ok=True)\n",
    "    \n",
    "    logistic_regression(args)"
   ]
  },
  {
   "cell_type": "code",
   "execution_count": 24,
   "metadata": {},
   "outputs": [
    {
     "name": "stdout",
     "output_type": "stream",
     "text": [
      "Writing ./logistic_regression/Dockerfile\n"
     ]
    }
   ],
   "source": [
    "%%writefile $docker_log_file\n",
    "\n",
    "FROM python:3.9-slim-buster\n",
    "WORKDIR /maven\n",
    "RUN pip install sklearn\n",
    "COPY logistic_regression.py /maven"
   ]
  },
  {
   "cell_type": "code",
   "execution_count": 25,
   "metadata": {},
   "outputs": [
    {
     "name": "stdout",
     "output_type": "stream",
     "text": [
      "Writing ./logistic_regression/logistic_regression.yaml\n"
     ]
    }
   ],
   "source": [
    "%%writefile $yaml_log_file\n",
    "name: Logistic Regression Classifier\n",
    "description: Trains a Logistic Regression Classifier\n",
    "\n",
    "inputs:\n",
    "- {name: Data, type: LocalPath, description: 'Path where data is stored.'}\n",
    "outputs:\n",
    "- {name: Accuracy, type: Float, description: 'Accuracy metric'}\n",
    "\n",
    "implementation:\n",
    "  container:\n",
    "    image: mavencodev/breast_cancer_logistic_regression:1.0\n",
    "    command: [\n",
    "      python, logistic_regression.py,\n",
    "\n",
    "      --data,\n",
    "      {inputPath: Data},\n",
    "\n",
    "      --accuracy,\n",
    "      {outputPath: Accuracy},\n",
    "\n",
    "    ]"
   ]
  },
  {
   "cell_type": "code",
   "execution_count": 26,
   "metadata": {},
   "outputs": [],
   "source": [
    "pipeline_file = \"pipeline.py\""
   ]
  },
  {
   "cell_type": "code",
   "execution_count": 27,
   "metadata": {},
   "outputs": [
    {
     "name": "stdout",
     "output_type": "stream",
     "text": [
      "Writing pipeline.py\n"
     ]
    }
   ],
   "source": [
    "%%writefile $pipeline_file\n",
    "import kfp\n",
    "from kfp import dsl\n",
    "from kfp.components import func_to_container_op\n",
    "\n",
    "@func_to_container_op\n",
    "def show_results(logistic_regression : float) -> None:\n",
    "    # Given the outputs from logistic regression components\n",
    "    # the results are shown.\n",
    "\n",
    "    print(f\"Logistic regression (accuracy): {logistic_regression}\")\n",
    "\n",
    "\n",
    "@dsl.pipeline(name='First Pipeline', description='Applies Logistic Regression for classification problem.')\n",
    "def first_pipeline():\n",
    "\n",
    "    # Loads the yaml manifest for each component\n",
    "    download = kfp.components.load_component_from_file('download_data/download_data.yaml')\n",
    "    logistic_regression = kfp.components.load_component_from_file('logistic_regression/logistic_regression.yaml')\n",
    "\n",
    "    # Run download_data task\n",
    "    download_task = download()\n",
    "\n",
    "    # Run task \"logistic_regression\" given\n",
    "    # the output generated by \"download_task\".\n",
    "    logistic_regression_task = logistic_regression(download_task.output)\n",
    "\n",
    "    # Given the output from \"logistic_regression\"\n",
    "    # the component \"show_results\" is called to print the results.\n",
    "    show_results(logistic_regression_task.output)\n",
    "\n",
    "\n",
    "\n",
    "if __name__ == '__main__':\n",
    "    kfp.compiler.Compiler().compile(first_pipeline, 'FirstPipeline.yaml')\n",
    "    kfp.Client().create_run_from_pipeline_func(first_pipeline, arguments={})"
   ]
  },
  {
   "cell_type": "code",
   "execution_count": null,
   "metadata": {},
   "outputs": [],
   "source": []
  }
 ],
 "metadata": {
  "kernelspec": {
   "display_name": "Python 3",
   "language": "python",
   "name": "python3"
  },
  "language_info": {
   "codemirror_mode": {
    "name": "ipython",
    "version": 3
   },
   "file_extension": ".py",
   "mimetype": "text/x-python",
   "name": "python",
   "nbconvert_exporter": "python",
   "pygments_lexer": "ipython3",
   "version": "3.6.9"
  }
 },
 "nbformat": 4,
 "nbformat_minor": 4
}
