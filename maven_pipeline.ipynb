{
 "cells": [
  {
   "cell_type": "code",
   "execution_count": null,
   "metadata": {},
   "outputs": [],
   "source": [
    "#installing pip\n",
    "!python -m pip install --user --upgrade pip --quiet"
   ]
  },
  {
   "cell_type": "code",
   "execution_count": null,
   "metadata": {},
   "outputs": [],
   "source": [
    "#installing kfp\n",
    "!pip install kfp --upgrade --user --quiet"
   ]
  },
  {
   "cell_type": "code",
   "execution_count": 1,
   "metadata": {},
   "outputs": [
    {
     "name": "stdout",
     "output_type": "stream",
     "text": [
      "/home/jovyan\n"
     ]
    }
   ],
   "source": [
    "%%bash\n",
    "pwd"
   ]
  },
  {
   "cell_type": "code",
   "execution_count": 2,
   "metadata": {},
   "outputs": [
    {
     "name": "stdout",
     "output_type": "stream",
     "text": [
      "/home/jovyan/maven_kubeflow_pipeline\n"
     ]
    }
   ],
   "source": [
    "cd maven_kubeflow_pipeline"
   ]
  },
  {
   "cell_type": "code",
   "execution_count": 3,
   "metadata": {},
   "outputs": [],
   "source": [
    "%%bash\n",
    "mkdir download_data\n",
    "mkdir model_training\n",
    "mkdir print_result"
   ]
  },
  {
   "cell_type": "code",
   "execution_count": 4,
   "metadata": {},
   "outputs": [],
   "source": [
    "download_data_file = \"./download_data/download_data.py\"\n",
    "docker_data_file = \"./download_data/Dockerfile\"\n",
    "yaml_data_file = \"./download_data/download_data.yaml\""
   ]
  },
  {
   "cell_type": "code",
   "execution_count": 5,
   "metadata": {},
   "outputs": [
    {
     "name": "stdout",
     "output_type": "stream",
     "text": [
      "Overwriting ./download_data/download_data.py\n"
     ]
    }
   ],
   "source": [
    "%%writefile $download_data_file\n",
    "import pickle\n",
    "\n",
    "import argparse\n",
    "from pathlib import Path\n",
    "\n",
    "from sklearn.datasets import load_breast_cancer\n",
    "from sklearn.model_selection import train_test_split\n",
    "\n",
    "def download_data(args):\n",
    "\n",
    "    # Gets and split dataset\n",
    "    x, y = load_breast_cancer(return_X_y=True)\n",
    "    x_train, x_test, y_train, y_test = train_test_split(x, y, test_size=0.25)\n",
    "\n",
    "    data = x_train, x_test, y_train, y_test \n",
    "        \n",
    "    #Save the train_data and test_data as a pickle file to be used by the next component.\n",
    "    with open(args.data, 'wb') as f:\n",
    "        pickle.dump(data, f)\n",
    "\n",
    "if __name__ == '__main__':\n",
    "    \n",
    "    # This component does not receive any input\n",
    "    # it only outpus one artifact which is `data`.\n",
    "    parser = argparse.ArgumentParser()\n",
    "    parser.add_argument('--data', type=str)\n",
    "    \n",
    "    args = parser.parse_args()\n",
    "    \n",
    "    # Creating the directory where the output file will be created \n",
    "    # (the directory may or may not exist).\n",
    "    Path(args.data).parent.mkdir(parents=True, exist_ok=True)\n",
    "\n",
    "    download_data(args)\n",
    "    "
   ]
  },
  {
   "cell_type": "code",
   "execution_count": 6,
   "metadata": {},
   "outputs": [
    {
     "name": "stdout",
     "output_type": "stream",
     "text": [
      "Overwriting ./download_data/Dockerfile\n"
     ]
    }
   ],
   "source": [
    "%%writefile $docker_data_file\n",
    "\n",
    "FROM python:3.9-slim-buster\n",
    "WORKDIR /maven\n",
    "RUN pip install sklearn\n",
    "COPY download_data.py /maven"
   ]
  },
  {
   "cell_type": "code",
   "execution_count": 7,
   "metadata": {},
   "outputs": [
    {
     "name": "stdout",
     "output_type": "stream",
     "text": [
      "Overwriting ./download_data/download_data.yaml\n"
     ]
    }
   ],
   "source": [
    "%%writefile $yaml_data_file\n",
    "name: Download Data Function\n",
    "description: Download toy data from sklearn datasets\n",
    "\n",
    "outputs:\n",
    "- {name: Data, type: LocalPath, description: 'Path where data will be stored.'}\n",
    "\n",
    "implementation:\n",
    "  container:\n",
    "    image: mavencodev/breast_cancer_download_data:2.0\n",
    "    command: [\n",
    "      python, download_data.py,\n",
    "\n",
    "      --data,\n",
    "      {outputPath: Data},\n",
    "    ]"
   ]
  },
  {
   "cell_type": "code",
   "execution_count": 8,
   "metadata": {},
   "outputs": [],
   "source": [
    "model_training_file = \"./model_training/model_training.py\"\n",
    "docker_model_file = \"./model_training/Dockerfile\"\n",
    "yaml_model_file = \"./model_training/model_training.yaml\""
   ]
  },
  {
   "cell_type": "code",
   "execution_count": 9,
   "metadata": {},
   "outputs": [
    {
     "name": "stdout",
     "output_type": "stream",
     "text": [
      "Overwriting ./model_training/model_training.py\n"
     ]
    }
   ],
   "source": [
    "%%writefile $model_training_file\n",
    "import pickle\n",
    "\n",
    "import argparse\n",
    "from pathlib import Path\n",
    "\n",
    "from sklearn.metrics import accuracy_score\n",
    "from sklearn.ensemble import RandomForestClassifier\n",
    "\n",
    "def model_training(args):\n",
    "\n",
    "    # Load and unpack the train_data\n",
    "    with open(args.data, 'rb') as f:\n",
    "        data = pickle.load(f)\n",
    "\n",
    "    x_train, x_test, y_train, y_test  = data \n",
    "    \n",
    "    # Initialize and train the model\n",
    "    model = RandomForestClassifier(random_state=1)\n",
    "    model.fit(x_train, y_train)\n",
    "\n",
    "    # Get predictions\n",
    "    y_pred = model.predict(x_test)\n",
    "    \n",
    "    # Get accuracy\n",
    "    accuracy = accuracy_score(y_test, y_pred)\n",
    "\n",
    "    # Save output into file\n",
    "    with open(args.accuracy, 'w') as accuracy_file:\n",
    "        accuracy_file.write(str(accuracy))\n",
    "\n",
    "\n",
    "\n",
    "if __name__ == '__main__':\n",
    "\n",
    "    # Defining and parsing the command-line arguments\n",
    "    parser = argparse.ArgumentParser(description='My program description')\n",
    "    parser.add_argument('--data', type=str)\n",
    "    parser.add_argument('--accuracy', type=str)\n",
    "\n",
    "    args = parser.parse_args()\n",
    "\n",
    "    # Creating the directory where the output file will be created (the directory may or may not exist).\n",
    "    Path(args.accuracy).parent.mkdir(parents=True, exist_ok=True)\n",
    "    \n",
    "    model_training(args)"
   ]
  },
  {
   "cell_type": "code",
   "execution_count": 10,
   "metadata": {},
   "outputs": [
    {
     "name": "stdout",
     "output_type": "stream",
     "text": [
      "Overwriting ./model_training/Dockerfile\n"
     ]
    }
   ],
   "source": [
    "%%writefile $docker_model_file\n",
    "\n",
    "FROM python:3.9-slim-buster\n",
    "WORKDIR /maven\n",
    "RUN pip install sklearn\n",
    "COPY model_training.py /maven"
   ]
  },
  {
   "cell_type": "code",
   "execution_count": 11,
   "metadata": {},
   "outputs": [
    {
     "name": "stdout",
     "output_type": "stream",
     "text": [
      "Overwriting ./model_training/model_training.yaml\n"
     ]
    }
   ],
   "source": [
    "%%writefile $yaml_model_file\n",
    "name: Random Forest Classifier\n",
    "description: Trains a Random Forest Classifier\n",
    "\n",
    "inputs:\n",
    "- {name: Data, type: LocalPath, description: 'Path where data is stored.'}\n",
    "outputs:\n",
    "- {name: Accuracy, type: Float, description: 'Accuracy metric'}\n",
    "\n",
    "implementation:\n",
    "  container:\n",
    "    image: mavencodev/breast_cancer_random_forest:2.0\n",
    "    command: [\n",
    "      python, model_training.py,\n",
    "\n",
    "      --data,\n",
    "      {inputPath: Data},\n",
    "\n",
    "      --accuracy,\n",
    "      {outputPath: Accuracy},\n",
    "\n",
    "    ]"
   ]
  },
  {
   "cell_type": "code",
   "execution_count": 12,
   "metadata": {},
   "outputs": [],
   "source": [
    "print_result_file = \"./print_result/print_result.py\"\n",
    "docker_acc_file = \"./print_result/Dockerfile\"\n",
    "yaml_acc_file = \"./print_result/print_result.yaml\""
   ]
  },
  {
   "cell_type": "code",
   "execution_count": 13,
   "metadata": {},
   "outputs": [
    {
     "name": "stdout",
     "output_type": "stream",
     "text": [
      "Overwriting ./print_result/print_result.py\n"
     ]
    }
   ],
   "source": [
    "%%writefile $print_result_file\n",
    "import argparse\n",
    "\n",
    "def print_result(args):\n",
    "    # Print results\n",
    "    with open(args.accuracy, 'r') as f:\n",
    "        score = f.read()\n",
    "\n",
    "    print(f\"Random forest (accuracy): {score}\")\n",
    "    \n",
    "if __name__ == '__main__':\n",
    "\n",
    "    # Defining and parsing the command-line arguments\n",
    "    parser = argparse.ArgumentParser(description='My program description')\n",
    "    parser.add_argument('--data', type=str)\n",
    "    parser.add_argument('--accuracy', type=str)\n",
    "\n",
    "    args = parser.parse_args()\n",
    "    \n",
    "    print_result(args)"
   ]
  },
  {
   "cell_type": "code",
   "execution_count": 14,
   "metadata": {},
   "outputs": [
    {
     "name": "stdout",
     "output_type": "stream",
     "text": [
      "Overwriting ./print_result/Dockerfile\n"
     ]
    }
   ],
   "source": [
    "%%writefile $docker_acc_file\n",
    "\n",
    "FROM python:3.9-slim-buster\n",
    "WORKDIR /maven\n",
    "RUN pip install sklearn\n",
    "COPY print_result.py /maven"
   ]
  },
  {
   "cell_type": "code",
   "execution_count": 15,
   "metadata": {},
   "outputs": [
    {
     "name": "stdout",
     "output_type": "stream",
     "text": [
      "Overwriting ./print_result/print_result.yaml\n"
     ]
    }
   ],
   "source": [
    "%%writefile $yaml_acc_file\n",
    "name: Prints result\n",
    "description: Prints Random Forest Classifier result\n",
    "\n",
    "inputs:\n",
    "- {name: Accuracy, type: Float, description: 'Accuracy metric'}\n",
    "\n",
    "implementation:\n",
    "  container:\n",
    "    image: mavencodev/breast_cancer_accuracy:3.0\n",
    "    command: [\n",
    "      python, print_result.py,\n",
    "\n",
    "      --accuracy,\n",
    "      {inputPath: Accuracy},\n",
    "\n",
    "\n",
    "    ]"
   ]
  },
  {
   "cell_type": "code",
   "execution_count": 16,
   "metadata": {},
   "outputs": [],
   "source": [
    "pipeline_file = \"pipeline.py\""
   ]
  },
  {
   "cell_type": "code",
   "execution_count": 17,
   "metadata": {},
   "outputs": [
    {
     "name": "stdout",
     "output_type": "stream",
     "text": [
      "Overwriting pipeline.py\n"
     ]
    }
   ],
   "source": [
    "%%writefile $pipeline_file\n",
    "\n",
    "import kfp\n",
    "from kfp import dsl\n",
    "\n",
    "@dsl.pipeline(name='First Pipeline', description='Applies Random forest for classification problem.')\n",
    "def first_pipeline():\n",
    "\n",
    "    # Loads the yaml manifest for each component\n",
    "    download = kfp.components.load_component_from_file('download_data/download_data.yaml')\n",
    "    model_training = kfp.components.load_component_from_file('model_training/model_training.yaml')\n",
    "    print_result = kfp.components.load_component_from_file(\"print_result/print_result.yaml\")\n",
    "    \n",
    "    # Run download_data task\n",
    "    download_task = download()\n",
    "\n",
    "    # Run task \"model_training\" given\n",
    "    # the output generated by \"download_task\".\n",
    "    model_training_task = model_training(download_task.output)\n",
    "\n",
    "    # Given the output from \"model_training\"\n",
    "    # the component \"print_result\" is called to print the results.\n",
    "    print_result(model_training_task.output)\n",
    "\n",
    "\n",
    "\n",
    "if __name__ == '__main__':\n",
    "    kfp.compiler.Compiler().compile(first_pipeline, 'Pipeline.yaml')\n",
    "    kfp.Client().create_run_from_pipeline_func(first_pipeline, arguments={})"
   ]
  },
  {
   "cell_type": "code",
   "execution_count": 18,
   "metadata": {},
   "outputs": [
    {
     "data": {
      "text/html": [
       "<a href=\"/pipeline/#/experiments/details/f961feb9-612f-4109-9c4a-80dfacf1520b\" target=\"_blank\" >Experiment details</a>."
      ],
      "text/plain": [
       "<IPython.core.display.HTML object>"
      ]
     },
     "metadata": {},
     "output_type": "display_data"
    },
    {
     "data": {
      "text/html": [
       "<a href=\"/pipeline/#/runs/details/b614d801-5197-4d06-976c-064ca3b577ec\" target=\"_blank\" >Run details</a>."
      ],
      "text/plain": [
       "<IPython.core.display.HTML object>"
      ]
     },
     "metadata": {},
     "output_type": "display_data"
    }
   ],
   "source": [
    "%run $pipeline_file"
   ]
  },
  {
   "cell_type": "code",
   "execution_count": null,
   "metadata": {},
   "outputs": [],
   "source": []
  }
 ],
 "metadata": {
  "kernelspec": {
   "display_name": "Python 3",
   "language": "python",
   "name": "python3"
  },
  "language_info": {
   "codemirror_mode": {
    "name": "ipython",
    "version": 3
   },
   "file_extension": ".py",
   "mimetype": "text/x-python",
   "name": "python",
   "nbconvert_exporter": "python",
   "pygments_lexer": "ipython3",
   "version": "3.6.9"
  }
 },
 "nbformat": 4,
 "nbformat_minor": 4
}
