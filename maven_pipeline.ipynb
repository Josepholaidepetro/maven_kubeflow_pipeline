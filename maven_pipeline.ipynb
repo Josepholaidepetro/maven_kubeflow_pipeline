{
 "cells": [
  {
   "cell_type": "code",
   "execution_count": null,
   "metadata": {},
   "outputs": [],
   "source": [
    "#installing pip\n",
    "!python -m pip install --user --upgrade pip --quiet"
   ]
  },
  {
   "cell_type": "code",
   "execution_count": null,
   "metadata": {},
   "outputs": [],
   "source": [
    "#installing kfp\n",
    "!pip install kfp --upgrade --user --quiet"
   ]
  },
  {
   "cell_type": "code",
   "execution_count": 1,
   "metadata": {},
   "outputs": [
    {
     "name": "stdout",
     "output_type": "stream",
     "text": [
      "/home/jovyan\n"
     ]
    }
   ],
   "source": [
    "%%bash\n",
    "pwd"
   ]
  },
  {
   "cell_type": "code",
   "execution_count": 2,
   "metadata": {},
   "outputs": [
    {
     "name": "stdout",
     "output_type": "stream",
     "text": [
      "/home/jovyan/maven_kubeflow_pipeline\n"
     ]
    }
   ],
   "source": [
    "cd maven_kubeflow_pipeline"
   ]
  },
  {
   "cell_type": "code",
   "execution_count": 3,
   "metadata": {},
   "outputs": [
    {
     "name": "stderr",
     "output_type": "stream",
     "text": [
      "mkdir: cannot create directory ‘download_data’: File exists\n",
      "mkdir: cannot create directory ‘model_training’: File exists\n",
      "mkdir: cannot create directory ‘print_result’: File exists\n"
     ]
    },
    {
     "ename": "CalledProcessError",
     "evalue": "Command 'b'mkdir download_data\\nmkdir model_training\\nmkdir print_result\\n'' returned non-zero exit status 1.",
     "output_type": "error",
     "traceback": [
      "\u001b[0;31m---------------------------------------------------------------------------\u001b[0m",
      "\u001b[0;31mCalledProcessError\u001b[0m                        Traceback (most recent call last)",
      "\u001b[0;32m<ipython-input-3-bff3da72bc78>\u001b[0m in \u001b[0;36m<module>\u001b[0;34m\u001b[0m\n\u001b[0;32m----> 1\u001b[0;31m \u001b[0mget_ipython\u001b[0m\u001b[0;34m(\u001b[0m\u001b[0;34m)\u001b[0m\u001b[0;34m.\u001b[0m\u001b[0mrun_cell_magic\u001b[0m\u001b[0;34m(\u001b[0m\u001b[0;34m'bash'\u001b[0m\u001b[0;34m,\u001b[0m \u001b[0;34m''\u001b[0m\u001b[0;34m,\u001b[0m \u001b[0;34m'mkdir download_data\\nmkdir model_training\\nmkdir print_result\\n'\u001b[0m\u001b[0;34m)\u001b[0m\u001b[0;34m\u001b[0m\u001b[0;34m\u001b[0m\u001b[0m\n\u001b[0m",
      "\u001b[0;32m/usr/local/lib/python3.6/dist-packages/IPython/core/interactiveshell.py\u001b[0m in \u001b[0;36mrun_cell_magic\u001b[0;34m(self, magic_name, line, cell)\u001b[0m\n\u001b[1;32m   2350\u001b[0m             \u001b[0;32mwith\u001b[0m \u001b[0mself\u001b[0m\u001b[0;34m.\u001b[0m\u001b[0mbuiltin_trap\u001b[0m\u001b[0;34m:\u001b[0m\u001b[0;34m\u001b[0m\u001b[0;34m\u001b[0m\u001b[0m\n\u001b[1;32m   2351\u001b[0m                 \u001b[0margs\u001b[0m \u001b[0;34m=\u001b[0m \u001b[0;34m(\u001b[0m\u001b[0mmagic_arg_s\u001b[0m\u001b[0;34m,\u001b[0m \u001b[0mcell\u001b[0m\u001b[0;34m)\u001b[0m\u001b[0;34m\u001b[0m\u001b[0;34m\u001b[0m\u001b[0m\n\u001b[0;32m-> 2352\u001b[0;31m                 \u001b[0mresult\u001b[0m \u001b[0;34m=\u001b[0m \u001b[0mfn\u001b[0m\u001b[0;34m(\u001b[0m\u001b[0;34m*\u001b[0m\u001b[0margs\u001b[0m\u001b[0;34m,\u001b[0m \u001b[0;34m**\u001b[0m\u001b[0mkwargs\u001b[0m\u001b[0;34m)\u001b[0m\u001b[0;34m\u001b[0m\u001b[0;34m\u001b[0m\u001b[0m\n\u001b[0m\u001b[1;32m   2353\u001b[0m             \u001b[0;32mreturn\u001b[0m \u001b[0mresult\u001b[0m\u001b[0;34m\u001b[0m\u001b[0;34m\u001b[0m\u001b[0m\n\u001b[1;32m   2354\u001b[0m \u001b[0;34m\u001b[0m\u001b[0m\n",
      "\u001b[0;32m/usr/local/lib/python3.6/dist-packages/IPython/core/magics/script.py\u001b[0m in \u001b[0;36mnamed_script_magic\u001b[0;34m(line, cell)\u001b[0m\n\u001b[1;32m    140\u001b[0m             \u001b[0;32melse\u001b[0m\u001b[0;34m:\u001b[0m\u001b[0;34m\u001b[0m\u001b[0;34m\u001b[0m\u001b[0m\n\u001b[1;32m    141\u001b[0m                 \u001b[0mline\u001b[0m \u001b[0;34m=\u001b[0m \u001b[0mscript\u001b[0m\u001b[0;34m\u001b[0m\u001b[0;34m\u001b[0m\u001b[0m\n\u001b[0;32m--> 142\u001b[0;31m             \u001b[0;32mreturn\u001b[0m \u001b[0mself\u001b[0m\u001b[0;34m.\u001b[0m\u001b[0mshebang\u001b[0m\u001b[0;34m(\u001b[0m\u001b[0mline\u001b[0m\u001b[0;34m,\u001b[0m \u001b[0mcell\u001b[0m\u001b[0;34m)\u001b[0m\u001b[0;34m\u001b[0m\u001b[0;34m\u001b[0m\u001b[0m\n\u001b[0m\u001b[1;32m    143\u001b[0m \u001b[0;34m\u001b[0m\u001b[0m\n\u001b[1;32m    144\u001b[0m         \u001b[0;31m# write a basic docstring:\u001b[0m\u001b[0;34m\u001b[0m\u001b[0;34m\u001b[0m\u001b[0;34m\u001b[0m\u001b[0m\n",
      "\u001b[0;32m</usr/local/lib/python3.6/dist-packages/decorator.py:decorator-gen-110>\u001b[0m in \u001b[0;36mshebang\u001b[0;34m(self, line, cell)\u001b[0m\n",
      "\u001b[0;32m/usr/local/lib/python3.6/dist-packages/IPython/core/magic.py\u001b[0m in \u001b[0;36m<lambda>\u001b[0;34m(f, *a, **k)\u001b[0m\n\u001b[1;32m    185\u001b[0m     \u001b[0;31m# but it's overkill for just that one bit of state.\u001b[0m\u001b[0;34m\u001b[0m\u001b[0;34m\u001b[0m\u001b[0;34m\u001b[0m\u001b[0m\n\u001b[1;32m    186\u001b[0m     \u001b[0;32mdef\u001b[0m \u001b[0mmagic_deco\u001b[0m\u001b[0;34m(\u001b[0m\u001b[0marg\u001b[0m\u001b[0;34m)\u001b[0m\u001b[0;34m:\u001b[0m\u001b[0;34m\u001b[0m\u001b[0;34m\u001b[0m\u001b[0m\n\u001b[0;32m--> 187\u001b[0;31m         \u001b[0mcall\u001b[0m \u001b[0;34m=\u001b[0m \u001b[0;32mlambda\u001b[0m \u001b[0mf\u001b[0m\u001b[0;34m,\u001b[0m \u001b[0;34m*\u001b[0m\u001b[0ma\u001b[0m\u001b[0;34m,\u001b[0m \u001b[0;34m**\u001b[0m\u001b[0mk\u001b[0m\u001b[0;34m:\u001b[0m \u001b[0mf\u001b[0m\u001b[0;34m(\u001b[0m\u001b[0;34m*\u001b[0m\u001b[0ma\u001b[0m\u001b[0;34m,\u001b[0m \u001b[0;34m**\u001b[0m\u001b[0mk\u001b[0m\u001b[0;34m)\u001b[0m\u001b[0;34m\u001b[0m\u001b[0;34m\u001b[0m\u001b[0m\n\u001b[0m\u001b[1;32m    188\u001b[0m \u001b[0;34m\u001b[0m\u001b[0m\n\u001b[1;32m    189\u001b[0m         \u001b[0;32mif\u001b[0m \u001b[0mcallable\u001b[0m\u001b[0;34m(\u001b[0m\u001b[0marg\u001b[0m\u001b[0;34m)\u001b[0m\u001b[0;34m:\u001b[0m\u001b[0;34m\u001b[0m\u001b[0;34m\u001b[0m\u001b[0m\n",
      "\u001b[0;32m/usr/local/lib/python3.6/dist-packages/IPython/core/magics/script.py\u001b[0m in \u001b[0;36mshebang\u001b[0;34m(self, line, cell)\u001b[0m\n\u001b[1;32m    243\u001b[0m             \u001b[0msys\u001b[0m\u001b[0;34m.\u001b[0m\u001b[0mstderr\u001b[0m\u001b[0;34m.\u001b[0m\u001b[0mflush\u001b[0m\u001b[0;34m(\u001b[0m\u001b[0;34m)\u001b[0m\u001b[0;34m\u001b[0m\u001b[0;34m\u001b[0m\u001b[0m\n\u001b[1;32m    244\u001b[0m         \u001b[0;32mif\u001b[0m \u001b[0margs\u001b[0m\u001b[0;34m.\u001b[0m\u001b[0mraise_error\u001b[0m \u001b[0;32mand\u001b[0m \u001b[0mp\u001b[0m\u001b[0;34m.\u001b[0m\u001b[0mreturncode\u001b[0m\u001b[0;34m!=\u001b[0m\u001b[0;36m0\u001b[0m\u001b[0;34m:\u001b[0m\u001b[0;34m\u001b[0m\u001b[0;34m\u001b[0m\u001b[0m\n\u001b[0;32m--> 245\u001b[0;31m             \u001b[0;32mraise\u001b[0m \u001b[0mCalledProcessError\u001b[0m\u001b[0;34m(\u001b[0m\u001b[0mp\u001b[0m\u001b[0;34m.\u001b[0m\u001b[0mreturncode\u001b[0m\u001b[0;34m,\u001b[0m \u001b[0mcell\u001b[0m\u001b[0;34m,\u001b[0m \u001b[0moutput\u001b[0m\u001b[0;34m=\u001b[0m\u001b[0mout\u001b[0m\u001b[0;34m,\u001b[0m \u001b[0mstderr\u001b[0m\u001b[0;34m=\u001b[0m\u001b[0merr\u001b[0m\u001b[0;34m)\u001b[0m\u001b[0;34m\u001b[0m\u001b[0;34m\u001b[0m\u001b[0m\n\u001b[0m\u001b[1;32m    246\u001b[0m \u001b[0;34m\u001b[0m\u001b[0m\n\u001b[1;32m    247\u001b[0m     \u001b[0;32mdef\u001b[0m \u001b[0m_run_script\u001b[0m\u001b[0;34m(\u001b[0m\u001b[0mself\u001b[0m\u001b[0;34m,\u001b[0m \u001b[0mp\u001b[0m\u001b[0;34m,\u001b[0m \u001b[0mcell\u001b[0m\u001b[0;34m,\u001b[0m \u001b[0mto_close\u001b[0m\u001b[0;34m)\u001b[0m\u001b[0;34m:\u001b[0m\u001b[0;34m\u001b[0m\u001b[0;34m\u001b[0m\u001b[0m\n",
      "\u001b[0;31mCalledProcessError\u001b[0m: Command 'b'mkdir download_data\\nmkdir model_training\\nmkdir print_result\\n'' returned non-zero exit status 1."
     ]
    }
   ],
   "source": [
    "%%bash\n",
    "mkdir download_data\n",
    "mkdir model_training\n",
    "mkdir print_result"
   ]
  },
  {
   "cell_type": "code",
   "execution_count": 4,
   "metadata": {},
   "outputs": [],
   "source": [
    "download_data_file = \"./download_data/download_data.py\"\n",
    "docker_data_file = \"./download_data/Dockerfile\"\n",
    "yaml_data_file = \"./download_data/download_data.yaml\""
   ]
  },
  {
   "cell_type": "code",
   "execution_count": 5,
   "metadata": {},
   "outputs": [
    {
     "name": "stdout",
     "output_type": "stream",
     "text": [
      "Overwriting ./download_data/download_data.py\n"
     ]
    }
   ],
   "source": [
    "%%writefile $download_data_file\n",
    "import pickle\n",
    "\n",
    "import argparse\n",
    "from pathlib import Path\n",
    "\n",
    "from sklearn.datasets import load_breast_cancer\n",
    "from sklearn.model_selection import train_test_split\n",
    "\n",
    "def download_data(args):\n",
    "\n",
    "    # Gets and split dataset\n",
    "    x, y = load_breast_cancer(return_X_y=True)\n",
    "    x_train, x_test, y_train, y_test = train_test_split(x, y, test_size=0.25)\n",
    "\n",
    "    data = x_train, x_test, y_train, y_test \n",
    "        \n",
    "    #Save the train_data and test_data as a pickle file to be used by the next component.\n",
    "    with open(args.data, 'wb') as f:\n",
    "        pickle.dump(data, f)\n",
    "\n",
    "if __name__ == '__main__':\n",
    "    \n",
    "    # This component does not receive any input\n",
    "    # it only outpus one artifact which is `data`.\n",
    "    parser = argparse.ArgumentParser()\n",
    "    parser.add_argument('--data', type=str)\n",
    "    \n",
    "    args = parser.parse_args()\n",
    "    \n",
    "    # Creating the directory where the output file will be created \n",
    "    # (the directory may or may not exist).\n",
    "    Path(args.data).parent.mkdir(parents=True, exist_ok=True)\n",
    "\n",
    "    download_data(args)\n",
    "    "
   ]
  },
  {
   "cell_type": "code",
   "execution_count": 6,
   "metadata": {},
   "outputs": [
    {
     "name": "stdout",
     "output_type": "stream",
     "text": [
      "Overwriting ./download_data/Dockerfile\n"
     ]
    }
   ],
   "source": [
    "%%writefile $docker_data_file\n",
    "\n",
    "FROM python:3.9-slim-buster\n",
    "WORKDIR /maven\n",
    "RUN pip install sklearn\n",
    "COPY download_data.py /maven"
   ]
  },
  {
   "cell_type": "code",
   "execution_count": 7,
   "metadata": {},
   "outputs": [
    {
     "name": "stdout",
     "output_type": "stream",
     "text": [
      "Overwriting ./download_data/download_data.yaml\n"
     ]
    }
   ],
   "source": [
    "%%writefile $yaml_data_file\n",
    "name: Download Data Function\n",
    "description: Download toy data from sklearn datasets\n",
    "\n",
    "outputs:\n",
    "- {name: Data, type: LocalPath, description: 'Path where data will be stored.'}\n",
    "\n",
    "implementation:\n",
    "  container:\n",
    "    image: mavencodev/breast_cancer_download_data:2.0\n",
    "    command: [\n",
    "      python, download_data.py,\n",
    "\n",
    "      --data,\n",
    "      {outputPath: Data},\n",
    "    ]"
   ]
  },
  {
   "cell_type": "code",
   "execution_count": 8,
   "metadata": {},
   "outputs": [],
   "source": [
    "model_training_file = \"./model_training/model_training.py\"\n",
    "docker_model_file = \"./model_training/Dockerfile\"\n",
    "yaml_model_file = \"./model_training/model_training.yaml\""
   ]
  },
  {
   "cell_type": "code",
   "execution_count": 9,
   "metadata": {},
   "outputs": [
    {
     "name": "stdout",
     "output_type": "stream",
     "text": [
      "Overwriting ./model_training/model_training.py\n"
     ]
    }
   ],
   "source": [
    "%%writefile $model_training_file\n",
    "import pickle\n",
    "\n",
    "import argparse\n",
    "from pathlib import Path\n",
    "\n",
    "from sklearn.metrics import accuracy_score\n",
    "from sklearn.ensemble import RandomForestClassifier\n",
    "\n",
    "def model_training(args):\n",
    "\n",
    "    # Load and unpack the train_data\n",
    "    with open(args.data, 'rb') as f:\n",
    "        data = pickle.load(f)\n",
    "\n",
    "    x_train, x_test, y_train, y_test  = data \n",
    "    \n",
    "    # Initialize and train the model\n",
    "    model = RandomForestClassifier(random_state=1)\n",
    "    model.fit(x_train, y_train)\n",
    "\n",
    "    # Get predictions\n",
    "    y_pred = model.predict(x_test)\n",
    "    \n",
    "    # Get accuracy\n",
    "    accuracy = accuracy_score(y_test, y_pred)\n",
    "\n",
    "    # Save output into file\n",
    "    with open(args.accuracy, 'w') as accuracy_file:\n",
    "        accuracy_file.write(str(accuracy))\n",
    "\n",
    "\n",
    "\n",
    "if __name__ == '__main__':\n",
    "\n",
    "    # Defining and parsing the command-line arguments\n",
    "    parser = argparse.ArgumentParser(description='My program description')\n",
    "    parser.add_argument('--data', type=str)\n",
    "    parser.add_argument('--accuracy', type=str)\n",
    "\n",
    "    args = parser.parse_args()\n",
    "\n",
    "    # Creating the directory where the output file will be created (the directory may or may not exist).\n",
    "    Path(args.accuracy).parent.mkdir(parents=True, exist_ok=True)\n",
    "    \n",
    "    model_training(args)"
   ]
  },
  {
   "cell_type": "code",
   "execution_count": 10,
   "metadata": {},
   "outputs": [
    {
     "name": "stdout",
     "output_type": "stream",
     "text": [
      "Overwriting ./model_training/Dockerfile\n"
     ]
    }
   ],
   "source": [
    "%%writefile $docker_model_file\n",
    "\n",
    "FROM python:3.9-slim-buster\n",
    "WORKDIR /maven\n",
    "RUN pip install sklearn\n",
    "COPY model_training.py /maven"
   ]
  },
  {
   "cell_type": "code",
   "execution_count": 11,
   "metadata": {},
   "outputs": [
    {
     "name": "stdout",
     "output_type": "stream",
     "text": [
      "Overwriting ./model_training/model_training.yaml\n"
     ]
    }
   ],
   "source": [
    "%%writefile $yaml_model_file\n",
    "name: Random Forest Classifier\n",
    "description: Trains a Random Forest Classifier\n",
    "\n",
    "inputs:\n",
    "- {name: Data, type: LocalPath, description: 'Path where data is stored.'}\n",
    "outputs:\n",
    "- {name: Accuracy, type: Float, description: 'Accuracy metric'}\n",
    "\n",
    "implementation:\n",
    "  container:\n",
    "    image: mavencodev/breast_cancer_random_forest:2.0\n",
    "    command: [\n",
    "      python, model_training.py,\n",
    "\n",
    "      --data,\n",
    "      {inputPath: Data},\n",
    "\n",
    "      --accuracy,\n",
    "      {outputPath: Accuracy},\n",
    "\n",
    "    ]"
   ]
  },
  {
   "cell_type": "code",
   "execution_count": 12,
   "metadata": {},
   "outputs": [],
   "source": [
    "print_result_file = \"./print_result/print_result.py\"\n",
    "docker_acc_file = \"./print_result/Dockerfile\"\n",
    "yaml_acc_file = \"./print_result/print_result.yaml\""
   ]
  },
  {
   "cell_type": "code",
   "execution_count": 13,
   "metadata": {},
   "outputs": [
    {
     "name": "stdout",
     "output_type": "stream",
     "text": [
      "Overwriting ./print_result/print_result.py\n"
     ]
    }
   ],
   "source": [
    "%%writefile $print_result_file\n",
    "import argparse\n",
    "\n",
    "def print_result(args):\n",
    "    # Print results\n",
    "    with open(args.accuracy, 'r') as f:\n",
    "        score = f.read()\n",
    "\n",
    "    print(f\"Random forest (accuracy): {score}\")\n",
    "    \n",
    "if __name__ == '__main__':\n",
    "\n",
    "    # Defining and parsing the command-line arguments\n",
    "    parser = argparse.ArgumentParser(description='My program description')\n",
    "    parser.add_argument('--data', type=str)\n",
    "    parser.add_argument('--accuracy', type=str)\n",
    "\n",
    "    args = parser.parse_args()\n",
    "    \n",
    "    print_result(args)"
   ]
  },
  {
   "cell_type": "code",
   "execution_count": 14,
   "metadata": {},
   "outputs": [
    {
     "name": "stdout",
     "output_type": "stream",
     "text": [
      "Overwriting ./print_result/Dockerfile\n"
     ]
    }
   ],
   "source": [
    "%%writefile $docker_acc_file\n",
    "\n",
    "FROM python:3.9-slim-buster\n",
    "WORKDIR /maven\n",
    "RUN pip install sklearn\n",
    "COPY print_result.py /maven"
   ]
  },
  {
   "cell_type": "code",
   "execution_count": 15,
   "metadata": {},
   "outputs": [
    {
     "name": "stdout",
     "output_type": "stream",
     "text": [
      "Overwriting ./print_result/print_result.yaml\n"
     ]
    }
   ],
   "source": [
    "%%writefile $yaml_acc_file\n",
    "name: Prints result\n",
    "description: Prints Random Forest Classifier result\n",
    "\n",
    "inputs:\n",
    "- {name: Accuracy, type: Float, description: 'Accuracy metric'}\n",
    "\n",
    "implementation:\n",
    "  container:\n",
    "    image: mavencodev/breast_cancer_accuracy:3.0\n",
    "    command: [\n",
    "      python, print_result.py,\n",
    "\n",
    "      --accuracy,\n",
    "      {inputPath: Accuracy},\n",
    "\n",
    "\n",
    "    ]"
   ]
  },
  {
   "cell_type": "code",
   "execution_count": 16,
   "metadata": {},
   "outputs": [],
   "source": [
    "pipeline_file = \"pipeline.py\""
   ]
  },
  {
   "cell_type": "code",
   "execution_count": 17,
   "metadata": {},
   "outputs": [
    {
     "name": "stdout",
     "output_type": "stream",
     "text": [
      "Overwriting pipeline.py\n"
     ]
    }
   ],
   "source": [
    "%%writefile $pipeline_file\n",
    "\n",
    "import kfp\n",
    "from kfp import dsl\n",
    "\n",
    "@dsl.pipeline(name='First Pipeline', description='Applies Random forest for classification problem.')\n",
    "def first_pipeline():\n",
    "\n",
    "    # Loads the yaml manifest for each component\n",
    "    download = kfp.components.load_component_from_file('download_data/download_data.yaml')\n",
    "    model_training = kfp.components.load_component_from_file('model_training/model_training.yaml')\n",
    "    print_result = kfp.components.load_component_from_file(\"print_result/print_result.yaml\")\n",
    "    \n",
    "    # Run download_data task\n",
    "    download_task = download()\n",
    "\n",
    "    # Run task \"model_training\" given\n",
    "    # the output generated by \"download_task\".\n",
    "    model_training_task = model_training(download_task.output)\n",
    "\n",
    "    # Given the output from \"model_training\"\n",
    "    # the component \"print_result\" is called to print the results.\n",
    "    print_result(model_training_task.output)\n",
    "\n",
    "\n",
    "\n",
    "if __name__ == '__main__':\n",
    "    kfp.compiler.Compiler().compile(first_pipeline, 'Pipeline.yaml')\n",
    "    kfp.Client().create_run_from_pipeline_func(first_pipeline, arguments={})"
   ]
  },
  {
   "cell_type": "code",
   "execution_count": 18,
   "metadata": {},
   "outputs": [
    {
     "data": {
      "text/html": [
       "<a href=\"/pipeline/#/experiments/details/f961feb9-612f-4109-9c4a-80dfacf1520b\" target=\"_blank\" >Experiment details</a>."
      ],
      "text/plain": [
       "<IPython.core.display.HTML object>"
      ]
     },
     "metadata": {},
     "output_type": "display_data"
    },
    {
     "data": {
      "text/html": [
       "<a href=\"/pipeline/#/runs/details/b614d801-5197-4d06-976c-064ca3b577ec\" target=\"_blank\" >Run details</a>."
      ],
      "text/plain": [
       "<IPython.core.display.HTML object>"
      ]
     },
     "metadata": {},
     "output_type": "display_data"
    }
   ],
   "source": [
    "%run $pipeline_file"
   ]
  },
  {
   "cell_type": "code",
   "execution_count": null,
   "metadata": {},
   "outputs": [],
   "source": []
  }
 ],
 "metadata": {
  "kernelspec": {
   "display_name": "Python 3",
   "language": "python",
   "name": "python3"
  },
  "language_info": {
   "codemirror_mode": {
    "name": "ipython",
    "version": 3
   },
   "file_extension": ".py",
   "mimetype": "text/x-python",
   "name": "python",
   "nbconvert_exporter": "python",
   "pygments_lexer": "ipython3",
   "version": "3.6.9"
  }
 },
 "nbformat": 4,
 "nbformat_minor": 4
}
